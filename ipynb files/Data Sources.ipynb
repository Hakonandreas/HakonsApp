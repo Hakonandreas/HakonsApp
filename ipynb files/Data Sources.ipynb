{
 "cells": [
  {
   "cell_type": "markdown",
   "id": "080d33d7",
   "metadata": {},
   "source": [
    "Github: https://github.com/Hakonandreas/HakonsApp\n",
    "\n",
    "Streamlit: https://hakond2dproject.streamlit.app"
   ]
  },
  {
   "cell_type": "markdown",
   "id": "b51c77ca",
   "metadata": {},
   "source": [
    "## Log\n",
    "\n",
    "I followed the “working car principle” when completing this assignment, to always ensure I had a functional code before adding new features. I began by fetching one month of data to understand its structure and verify that everything worked as expected. I realized that my date-formatting was wrong, so I only got data from 2025, but managed to get January from the right year in the end. Since I could only retrieve one month at a time, I then looped through all months of 2021 to gather a full year of data.\n",
    "\n",
    "I then started with the connection setup copied from the lecture notes, allowing me to connect to Spark and Cassandra. After successfully fetching data from the API and storing it in Cassandra, I then retrieved the data again with Spark. I created one of the plots at a time to visualize the results. In the process I realized a lot of the data dissapeared on the way, because of how I set up my indexing, which I managed to fix. Later, I integrated MongoDB and made sure I got push the data into that database. I eventually moved all passwords and URIs to a separate secrets file to keep them secure.\n",
    "\n",
    "In Streamlit, I initially struggled to connect to MongoDB because I had placed the credentials in the secrets file and added it to .gitignore. I later realized that when running the app on Streamlit Cloud, I needed to include these credentials in the platform’s own secrets configuration. Once that was done, the connection worked properly. Finally, I rebuilt the plots in Streamlit, inspired by how I set them up in the ipynb file. In the end I and added caching to improve the app’s performance, as it was frustrating to use the app when it was constantly loading the data. The caching significantly improved the app's responsiveness, making it run much faster.\n",
    "\n",
    "When trying to convert this ipynb file to a pdf, I found it difficult to get it so show the pyplots, since they were interactive. To come around this I took screenshots of the plots and added them as images in the pdf."
   ]
  },
  {
   "cell_type": "markdown",
   "id": "4d165e13",
   "metadata": {},
   "source": [
    "## AI usage\n",
    "I generally had Copilot enabled in VS Code, as it helped me autocomplete code and suggest functions, which made my workflow more efficient and assisted me with syntax. I also used ChatGPT to clarify concepts, generate code snippets, and help with debugging when I encountered issues that required more detailed explanations or alternative solutions. I managed to fetch one month of data from the API on my own, but I used ChatGPT to help me loop through all months of 2021 to obtain a full year of data. I also used ChatGPT a lot when connecting to MongoDB in Streamlit, since I did not know what was wrong with my secrets file connection. Later, I used it to learn how to plot two columns against each other in Streamlit and to improve the overall quality of my visualizations. In the end I thought the app was slow, so I got help from ChatGPT to make the cache function, suggested by myself. Generally, I found ChatGPT to be a valuable resource throughout the development process, especially when my own code resulted in errors I did not understand."
   ]
  },
  {
   "cell_type": "code",
   "execution_count": 1,
   "id": "5e925682",
   "metadata": {},
   "outputs": [],
   "source": [
    "import os\n",
    "from pyspark.sql import SparkSession\n",
    "from pyspark.sql.functions import to_timestamp, row_number\n",
    "from pyspark.sql.functions import col, to_date, sum as spark_sum\n",
    "from pyspark.sql.window import Window\n",
    "import requests\n",
    "import pandas as pd\n",
    "from datetime import datetime, timedelta\n",
    "from cassandra.cluster import Cluster\n",
    "from pymongo.mongo_client import MongoClient\n",
    "from pymongo.server_api import ServerApi\n",
    "import plotly.express as px\n",
    "import time\n",
    "import toml\n",
    "from IPython.display import Image, display\n"
   ]
  },
  {
   "cell_type": "markdown",
   "id": "279ca918",
   "metadata": {},
   "source": [
    "## Connections"
   ]
  },
  {
   "cell_type": "code",
   "execution_count": 2,
   "id": "57a2ca40",
   "metadata": {},
   "outputs": [],
   "source": [
    "os.environ[\"HADOOP_HOME\"] = \"C:/Hadoop/hadoop-3.3.1\"\n",
    "os.environ[\"PYSPARK_HADOOP_VERSION\"] = \"without\"\n",
    "os.environ[\"PYSPARK_PYTHON\"] = \"python\"\n",
    "os.environ[\"PYSPARK_DRIVER_PYTHON\"] = \"python\"\n",
    "os.environ['HADOOP_USER_NAME'] = 'hakhol'\n",
    "\n",
    "\n",
    "os.environ[\"JAVA_HOME\"] = \"/Library/Java/JavaVirtualMachines/temurin-11.jdk/Contents/Home\"\n",
    "os.environ[\"PATH\"] = os.environ[\"JAVA_HOME\"] + \"/bin:\" + os.environ[\"PATH\"]"
   ]
  },
  {
   "cell_type": "code",
   "execution_count": 3,
   "id": "3e1cd58a",
   "metadata": {},
   "outputs": [
    {
     "name": "stdout",
     "output_type": "stream",
     "text": [
      ":: loading settings :: url = jar:file:/Users/hakhol/miniconda3/envs/D2D_env/lib/python3.12/site-packages/pyspark/jars/ivy-2.5.1.jar!/org/apache/ivy/core/settings/ivysettings.xml\n"
     ]
    },
    {
     "name": "stderr",
     "output_type": "stream",
     "text": [
      "Ivy Default Cache set to: /Users/hakhol/.ivy2/cache\n",
      "The jars for the packages stored in: /Users/hakhol/.ivy2/jars\n",
      "com.datastax.spark#spark-cassandra-connector_2.12 added as a dependency\n",
      ":: resolving dependencies :: org.apache.spark#spark-submit-parent-40036023-5ddd-47c8-96fc-b1bcb0994481;1.0\n",
      "\tconfs: [default]\n",
      "\tfound com.datastax.spark#spark-cassandra-connector_2.12;3.5.1 in central\n",
      "\tfound com.datastax.spark#spark-cassandra-connector-driver_2.12;3.5.1 in central\n",
      "\tfound org.scala-lang.modules#scala-collection-compat_2.12;2.11.0 in central\n",
      "\tfound org.apache.cassandra#java-driver-core-shaded;4.18.1 in central\n",
      "\tfound com.datastax.oss#native-protocol;1.5.1 in central\n",
      "\tfound com.datastax.oss#java-driver-shaded-guava;25.1-jre-graal-sub-1 in central\n",
      "\tfound com.typesafe#config;1.4.1 in central\n",
      "\tfound org.slf4j#slf4j-api;1.7.26 in central\n",
      "\tfound io.dropwizard.metrics#metrics-core;4.1.18 in central\n",
      "\tfound org.hdrhistogram#HdrHistogram;2.1.12 in central\n",
      "\tfound org.reactivestreams#reactive-streams;1.0.3 in central\n",
      "\tfound org.apache.cassandra#java-driver-mapper-runtime;4.18.1 in central\n",
      "\tfound org.apache.cassandra#java-driver-query-builder;4.18.1 in central\n",
      "\tfound org.apache.commons#commons-lang3;3.10 in central\n",
      "\tfound com.thoughtworks.paranamer#paranamer;2.8 in central\n",
      "\tfound org.scala-lang#scala-reflect;2.12.19 in central\n",
      ":: resolution report :: resolve 926ms :: artifacts dl 48ms\n",
      "\t:: modules in use:\n",
      "\tcom.datastax.oss#java-driver-shaded-guava;25.1-jre-graal-sub-1 from central in [default]\n",
      "\tcom.datastax.oss#native-protocol;1.5.1 from central in [default]\n",
      "\tcom.datastax.spark#spark-cassandra-connector-driver_2.12;3.5.1 from central in [default]\n",
      "\tcom.datastax.spark#spark-cassandra-connector_2.12;3.5.1 from central in [default]\n",
      "\tcom.thoughtworks.paranamer#paranamer;2.8 from central in [default]\n",
      "\tcom.typesafe#config;1.4.1 from central in [default]\n",
      "\tio.dropwizard.metrics#metrics-core;4.1.18 from central in [default]\n",
      "\torg.apache.cassandra#java-driver-core-shaded;4.18.1 from central in [default]\n",
      "\torg.apache.cassandra#java-driver-mapper-runtime;4.18.1 from central in [default]\n",
      "\torg.apache.cassandra#java-driver-query-builder;4.18.1 from central in [default]\n",
      "\torg.apache.commons#commons-lang3;3.10 from central in [default]\n",
      "\torg.hdrhistogram#HdrHistogram;2.1.12 from central in [default]\n",
      "\torg.reactivestreams#reactive-streams;1.0.3 from central in [default]\n",
      "\torg.scala-lang#scala-reflect;2.12.19 from central in [default]\n",
      "\torg.scala-lang.modules#scala-collection-compat_2.12;2.11.0 from central in [default]\n",
      "\torg.slf4j#slf4j-api;1.7.26 from central in [default]\n",
      "\t---------------------------------------------------------------------\n",
      "\t|                  |            modules            ||   artifacts   |\n",
      "\t|       conf       | number| search|dwnlded|evicted|| number|dwnlded|\n",
      "\t---------------------------------------------------------------------\n",
      "\t|      default     |   16  |   0   |   0   |   0   ||   16  |   0   |\n",
      "\t---------------------------------------------------------------------\n",
      ":: retrieving :: org.apache.spark#spark-submit-parent-40036023-5ddd-47c8-96fc-b1bcb0994481\n",
      "\tconfs: [default]\n",
      "\t0 artifacts copied, 16 already retrieved (0kB/20ms)\n",
      "25/10/22 19:39:44 WARN NativeCodeLoader: Unable to load native-hadoop library for your platform... using builtin-java classes where applicable\n",
      "Setting default log level to \"WARN\".\n",
      "To adjust logging level use sc.setLogLevel(newLevel). For SparkR, use setLogLevel(newLevel).\n"
     ]
    }
   ],
   "source": [
    "spark = SparkSession.builder.appName('Elhub_SparkCassandraApp').\\\n",
    "    config('spark.jars.packages', 'com.datastax.spark:spark-cassandra-connector_2.12:3.5.1').\\\n",
    "    config('spark.cassandra.connection.host', 'localhost').\\\n",
    "    config('spark.sql.extensions', 'com.datastax.spark.connector.CassandraSparkExtensions').\\\n",
    "    config('spark.sql.catalog.mycatalog', 'com.datastax.spark.connector.datasource.CassandraCatalog').\\\n",
    "    config('spark.driver.host', '127.0.0.1').\\\n",
    "    config('spark.cassandra.connection.port', '9042').getOrCreate()\n"
   ]
  },
  {
   "cell_type": "code",
   "execution_count": 4,
   "id": "2cb7a1e7",
   "metadata": {},
   "outputs": [
    {
     "data": {
      "text/plain": [
       "<cassandra.cluster.ResultSet at 0x11db21460>"
      ]
     },
     "execution_count": 4,
     "metadata": {},
     "output_type": "execute_result"
    }
   ],
   "source": [
    "# Connecting to Cassandra\n",
    "cluster = Cluster(['localhost'], port=9042)\n",
    "session = cluster.connect()\n",
    "\n",
    "# Create keyspace (safe to run multiple times)\n",
    "session.execute(\"\"\"\n",
    "    CREATE KEYSPACE IF NOT EXISTS elhub\n",
    "    WITH REPLICATION = {'class':'SimpleStrategy', 'replication_factor':1};\n",
    "\"\"\")\n",
    "\n",
    "time.sleep(1)  # wait for metadata propagation\n",
    "\n",
    "# Drop and create table using fully-qualified name\n",
    "session.execute(\"DROP TABLE IF EXISTS elhub.production;\")\n",
    "session.execute(\"\"\"\n",
    "    CREATE TABLE IF NOT EXISTS elhub.production (\n",
    "        ind int PRIMARY KEY,\n",
    "        startTime timestamp,\n",
    "        endTime timestamp,\n",
    "        lastUpdatedTime timestamp,\n",
    "        priceArea text,\n",
    "        productionGroup text,\n",
    "        quantityKwh double\n",
    "    );\n",
    "\"\"\")\n",
    "\n"
   ]
  },
  {
   "cell_type": "code",
   "execution_count": 5,
   "id": "32eb23a1",
   "metadata": {},
   "outputs": [
    {
     "name": "stdout",
     "output_type": "stream",
     "text": [
      "Pinged your deployment. You successfully connected to MongoDB!\n"
     ]
    }
   ],
   "source": [
    "# Connection URI\n",
    "secrets = toml.load(\"../secrets.toml\")\n",
    "uri = secrets['mongodb']['uri']\n",
    "\n",
    "# Create a new client and connect to the server\n",
    "client = MongoClient(uri, server_api=ServerApi('1'))\n",
    "\n",
    "# Send a ping to confirm a successful connection\n",
    "try:\n",
    "    client.admin.command('ping')\n",
    "    print(\"Pinged your deployment. You successfully connected to MongoDB!\")\n",
    "except Exception as e:\n",
    "    print(e)"
   ]
  },
  {
   "cell_type": "markdown",
   "id": "97c3c04e",
   "metadata": {},
   "source": [
    "### Fetching Data from API"
   ]
  },
  {
   "cell_type": "code",
   "execution_count": 6,
   "id": "7e13c175",
   "metadata": {},
   "outputs": [
    {
     "name": "stdout",
     "output_type": "stream",
     "text": [
      "Fetched 17856 records for 2021-01\n",
      "Fetched 16128 records for 2021-02\n",
      "Fetched 17832 records for 2021-03\n",
      "Fetched 17280 records for 2021-04\n",
      "Fetched 17856 records for 2021-05\n",
      "Fetched 17976 records for 2021-06\n",
      "Fetched 18600 records for 2021-07\n",
      "Fetched 18600 records for 2021-08\n",
      "Fetched 18000 records for 2021-09\n",
      "Fetched 18625 records for 2021-10\n",
      "Fetched 18000 records for 2021-11\n",
      "Fetched 18600 records for 2021-12\n",
      "\n",
      "Total records fetched: 215353\n",
      "                     endTime            lastUpdatedTime priceArea  \\\n",
      "0  2021-01-01T01:00:00+01:00  2024-12-20T10:35:40+01:00       NO1   \n",
      "1  2021-01-01T02:00:00+01:00  2024-12-20T10:35:40+01:00       NO1   \n",
      "2  2021-01-01T03:00:00+01:00  2024-12-20T10:35:40+01:00       NO1   \n",
      "3  2021-01-01T04:00:00+01:00  2024-12-20T10:35:40+01:00       NO1   \n",
      "4  2021-01-01T05:00:00+01:00  2024-12-20T10:35:40+01:00       NO1   \n",
      "\n",
      "  productionGroup  quantityKwh                  startTime  \n",
      "0           hydro    2507716.8  2021-01-01T00:00:00+01:00  \n",
      "1           hydro    2494728.0  2021-01-01T01:00:00+01:00  \n",
      "2           hydro    2486777.5  2021-01-01T02:00:00+01:00  \n",
      "3           hydro    2461176.0  2021-01-01T03:00:00+01:00  \n",
      "4           hydro    2466969.2  2021-01-01T04:00:00+01:00  \n"
     ]
    }
   ],
   "source": [
    "def fetch_month(year: int, month: int, tz_offset_hours: int = 2, session: requests.Session = None):\n",
    "    \"\"\"Fetch production data for a specific month and year from Elhub API.\"\"\"\n",
    "    \n",
    "    session = session or requests.Session()\n",
    "\n",
    "    # Start and end of the month\n",
    "    start = datetime(year, month, 1)\n",
    "    end = datetime(year + (month == 12), (month % 12) + 1, 1) - timedelta(seconds=1)\n",
    "\n",
    "    start_str = start.strftime(f\"%Y-%m-%dT%H:%M:%S+02:00\")\n",
    "    end_str = end.strftime(f\"%Y-%m-%dT%H:%M:%S+02:00\")\n",
    "\n",
    "    url = \"https://api.elhub.no/energy-data/v0/price-areas\"\n",
    "    params = {\n",
    "        \"dataset\": \"PRODUCTION_PER_GROUP_MBA_HOUR\",\n",
    "        \"startDate\": start_str,\n",
    "        \"endDate\": end_str,\n",
    "    }\n",
    "\n",
    "    try:\n",
    "        resp = session.get(url, params=params, timeout=30)\n",
    "        resp.raise_for_status()\n",
    "        data = resp.json()\n",
    "    except Exception as e:\n",
    "        print(f\"Error fetching {year}-{month:02d}: {e}\")\n",
    "        return pd.DataFrame()  # return empty DF on error\n",
    "\n",
    "    # Extract production records\n",
    "    all_records = []\n",
    "    for area in data.get(\"data\", []):\n",
    "        records = area.get(\"attributes\", {}).get(\"productionPerGroupMbaHour\", [])\n",
    "        if records:\n",
    "            all_records.extend(records)\n",
    "\n",
    "    df = pd.DataFrame(all_records)\n",
    "    print(f\"Fetched {len(df)} records for {year}-{month:02d}\")\n",
    "    return df\n",
    "\n",
    "# Fetch all months of 2021 using a Session and skip empty dfs before concat\n",
    "dfs = []\n",
    "with requests.Session() as sess:\n",
    "    for month in range(1, 13):\n",
    "        monthly_df = fetch_month(2021, month, session=sess)\n",
    "        if not monthly_df.empty:\n",
    "            dfs.append(monthly_df)\n",
    "\n",
    "if dfs:\n",
    "    df_all = pd.concat(dfs, ignore_index=True)\n",
    "else:\n",
    "    df_all = pd.DataFrame()\n",
    "\n",
    "print(f\"\\nTotal records fetched: {len(df_all)}\")\n",
    "print(df_all.head())\n"
   ]
  },
  {
   "cell_type": "markdown",
   "id": "0b615a06",
   "metadata": {},
   "source": [
    "### Inserting data into Cassandra"
   ]
  },
  {
   "cell_type": "code",
   "execution_count": 7,
   "id": "15e7329a",
   "metadata": {},
   "outputs": [
    {
     "name": "stderr",
     "output_type": "stream",
     "text": [
      "25/10/22 19:40:26 WARN WindowExec: No Partition Defined for Window operation! Moving all data to a single partition, this can cause serious performance degradation.\n",
      "25/10/22 19:40:26 WARN WindowExec: No Partition Defined for Window operation! Moving all data to a single partition, this can cause serious performance degradation.\n",
      "25/10/22 19:40:26 WARN WindowExec: No Partition Defined for Window operation! Moving all data to a single partition, this can cause serious performance degradation.\n",
      "25/10/22 19:40:29 WARN TaskSetManager: Stage 0 contains a task of very large size (5745 KiB). The maximum recommended task size is 1000 KiB.\n",
      "25/10/22 19:40:33 WARN WindowExec: No Partition Defined for Window operation! Moving all data to a single partition, this can cause serious performance degradation.\n",
      "25/10/22 19:40:33 WARN WindowExec: No Partition Defined for Window operation! Moving all data to a single partition, this can cause serious performance degradation.\n",
      "[Stage 2:>                                                          (0 + 1) / 1]\r"
     ]
    },
    {
     "name": "stdout",
     "output_type": "stream",
     "text": [
      "Data successfully written to Cassandra!\n"
     ]
    },
    {
     "name": "stderr",
     "output_type": "stream",
     "text": [
      "                                                                                \r"
     ]
    }
   ],
   "source": [
    "# Convert into spark dataframe and insert into Cassandra\n",
    "spark_df = spark.createDataFrame(df_all)\n",
    "\n",
    "# Rename columns to lowercase to match Cassandra schema\n",
    "spark_df = spark_df.withColumnRenamed(\"startTime\", \"starttime\") \\\n",
    "                   .withColumnRenamed(\"endTime\", \"endtime\") \\\n",
    "                   .withColumnRenamed(\"lastUpdatedTime\", \"lastupdatedtime\") \\\n",
    "                   .withColumnRenamed(\"priceArea\", \"pricearea\") \\\n",
    "                   .withColumnRenamed(\"productionGroup\", \"productiongroup\") \\\n",
    "                   .withColumnRenamed(\"quantityKwh\", \"quantitykwh\")\n",
    "\n",
    "window = Window.orderBy(\"starttime\", \"pricearea\", \"productiongroup\")\n",
    "spark_df = spark_df.withColumn(\"ind\", row_number().over(window))\n",
    "\n",
    "# Convert time strings to proper timestamps\n",
    "spark_df = (\n",
    "    spark_df.withColumn(\"starttime\", to_timestamp(col(\"starttime\")))\n",
    "       .withColumn(\"endtime\", to_timestamp(col(\"endtime\")))\n",
    "       .withColumn(\"lastupdatedtime\", to_timestamp(col(\"lastupdatedtime\")))\n",
    ")\n",
    "\n",
    "# Write into Cassandra\n",
    "(\n",
    "    spark_df.write\n",
    "    .format(\"org.apache.spark.sql.cassandra\")\n",
    "    .mode(\"append\")\n",
    "    .options(table=\"production\", keyspace=\"elhub\")\n",
    "    .save()\n",
    ")\n",
    "\n",
    "print(\"Data successfully written to Cassandra!\")\n"
   ]
  },
  {
   "cell_type": "markdown",
   "id": "56081190",
   "metadata": {},
   "source": [
    "### Load data from Cassandra and plot"
   ]
  },
  {
   "cell_type": "code",
   "execution_count": 8,
   "id": "9761b096",
   "metadata": {},
   "outputs": [
    {
     "name": "stdout",
     "output_type": "stream",
     "text": [
      "+---------+---------------+-------------------+-----------+\n",
      "|pricearea|productiongroup|          starttime|quantitykwh|\n",
      "+---------+---------------+-------------------+-----------+\n",
      "|      NO3|          solar|2021-09-24 15:00:00|    336.598|\n",
      "|      NO3|           wind|2021-10-05 19:00:00|  114042.08|\n",
      "|      NO2|           wind|2021-04-14 23:00:00|  252980.62|\n",
      "|      NO5|          solar|2021-05-03 13:00:00|   1218.719|\n",
      "|      NO3|          hydro|2021-01-12 06:00:00|  2689030.0|\n",
      "|      NO3|          solar|2021-09-04 15:00:00|   3166.384|\n",
      "|      NO4|          other|2021-03-29 19:00:00|     33.885|\n",
      "|      NO5|          other|2021-08-03 11:00:00|      3.761|\n",
      "|      NO4|           wind|2021-11-01 01:00:00|   317860.0|\n",
      "|      NO3|          solar|2021-07-27 17:00:00|    855.206|\n",
      "|      NO5|          hydro|2021-08-03 22:00:00|  2707704.8|\n",
      "|      NO1|          solar|2021-07-07 17:00:00|   5870.875|\n",
      "|      NO3|           wind|2021-03-15 06:00:00|   308626.2|\n",
      "|      NO1|          other|2021-07-03 23:00:00|        0.0|\n",
      "|      NO1|           wind|2021-10-08 19:00:00|   76082.96|\n",
      "|      NO2|          other|2021-11-13 09:00:00|      0.017|\n",
      "|      NO4|          solar|2021-03-18 11:00:00|     44.118|\n",
      "|      NO3|          solar|2021-07-06 13:00:00|   1050.579|\n",
      "|      NO1|          hydro|2021-11-11 00:00:00|  2734124.5|\n",
      "|      NO2|          hydro|2021-04-11 04:00:00|  6564848.0|\n",
      "+---------+---------------+-------------------+-----------+\n",
      "only showing top 20 rows\n",
      "\n"
     ]
    }
   ],
   "source": [
    "# Load table from Cassandra\n",
    "spark_df = spark.read \\\n",
    "    .format(\"org.apache.spark.sql.cassandra\") \\\n",
    "    .options(table=\"production\", keyspace=\"elhub\") \\\n",
    "    .load()\n",
    "\n",
    "# Select only the columns you want\n",
    "selected_df = spark_df.select(\n",
    "    \"pricearea\",\n",
    "    \"productiongroup\",\n",
    "    \"starttime\",\n",
    "    \"quantitykwh\"\n",
    ")\n",
    "\n",
    "# Show a few rows\n",
    "selected_df.show()\n"
   ]
  },
  {
   "cell_type": "code",
   "execution_count": 9,
   "id": "a5ed4e5c",
   "metadata": {},
   "outputs": [
    {
     "name": "stderr",
     "output_type": "stream",
     "text": [
      "                                                                                \r"
     ]
    },
    {
     "data": {
      "application/vnd.plotly.v1+json": {
       "config": {
        "plotlyServerURL": "https://plot.ly"
       },
       "data": [
        {
         "domain": {
          "x": [
           0,
           1
          ],
          "y": [
           0,
           1
          ]
         },
         "hole": 0,
         "hovertemplate": "productiongroup=%{label}<br>total_quantity=%{value}<extra></extra>",
         "labels": [
          "solar",
          "other",
          "thermal",
          "hydro",
          "wind"
         ],
         "legendgroup": "",
         "name": "",
         "showlegend": true,
         "type": "pie",
         "values": {
          "bdata": "iUFgBW5ua0EHgZVDJ6rpQOAm8cG/JaxBy8zfKpkYEUKRwgUkB1DAQQ==",
          "dtype": "f8"
         }
        }
       ],
       "layout": {
        "legend": {
         "tracegroupgap": 0
        },
        "template": {
         "data": {
          "bar": [
           {
            "error_x": {
             "color": "#2a3f5f"
            },
            "error_y": {
             "color": "#2a3f5f"
            },
            "marker": {
             "line": {
              "color": "#E5ECF6",
              "width": 0.5
             },
             "pattern": {
              "fillmode": "overlay",
              "size": 10,
              "solidity": 0.2
             }
            },
            "type": "bar"
           }
          ],
          "barpolar": [
           {
            "marker": {
             "line": {
              "color": "#E5ECF6",
              "width": 0.5
             },
             "pattern": {
              "fillmode": "overlay",
              "size": 10,
              "solidity": 0.2
             }
            },
            "type": "barpolar"
           }
          ],
          "carpet": [
           {
            "aaxis": {
             "endlinecolor": "#2a3f5f",
             "gridcolor": "white",
             "linecolor": "white",
             "minorgridcolor": "white",
             "startlinecolor": "#2a3f5f"
            },
            "baxis": {
             "endlinecolor": "#2a3f5f",
             "gridcolor": "white",
             "linecolor": "white",
             "minorgridcolor": "white",
             "startlinecolor": "#2a3f5f"
            },
            "type": "carpet"
           }
          ],
          "choropleth": [
           {
            "colorbar": {
             "outlinewidth": 0,
             "ticks": ""
            },
            "type": "choropleth"
           }
          ],
          "contour": [
           {
            "colorbar": {
             "outlinewidth": 0,
             "ticks": ""
            },
            "colorscale": [
             [
              0,
              "#0d0887"
             ],
             [
              0.1111111111111111,
              "#46039f"
             ],
             [
              0.2222222222222222,
              "#7201a8"
             ],
             [
              0.3333333333333333,
              "#9c179e"
             ],
             [
              0.4444444444444444,
              "#bd3786"
             ],
             [
              0.5555555555555556,
              "#d8576b"
             ],
             [
              0.6666666666666666,
              "#ed7953"
             ],
             [
              0.7777777777777778,
              "#fb9f3a"
             ],
             [
              0.8888888888888888,
              "#fdca26"
             ],
             [
              1,
              "#f0f921"
             ]
            ],
            "type": "contour"
           }
          ],
          "contourcarpet": [
           {
            "colorbar": {
             "outlinewidth": 0,
             "ticks": ""
            },
            "type": "contourcarpet"
           }
          ],
          "heatmap": [
           {
            "colorbar": {
             "outlinewidth": 0,
             "ticks": ""
            },
            "colorscale": [
             [
              0,
              "#0d0887"
             ],
             [
              0.1111111111111111,
              "#46039f"
             ],
             [
              0.2222222222222222,
              "#7201a8"
             ],
             [
              0.3333333333333333,
              "#9c179e"
             ],
             [
              0.4444444444444444,
              "#bd3786"
             ],
             [
              0.5555555555555556,
              "#d8576b"
             ],
             [
              0.6666666666666666,
              "#ed7953"
             ],
             [
              0.7777777777777778,
              "#fb9f3a"
             ],
             [
              0.8888888888888888,
              "#fdca26"
             ],
             [
              1,
              "#f0f921"
             ]
            ],
            "type": "heatmap"
           }
          ],
          "histogram": [
           {
            "marker": {
             "pattern": {
              "fillmode": "overlay",
              "size": 10,
              "solidity": 0.2
             }
            },
            "type": "histogram"
           }
          ],
          "histogram2d": [
           {
            "colorbar": {
             "outlinewidth": 0,
             "ticks": ""
            },
            "colorscale": [
             [
              0,
              "#0d0887"
             ],
             [
              0.1111111111111111,
              "#46039f"
             ],
             [
              0.2222222222222222,
              "#7201a8"
             ],
             [
              0.3333333333333333,
              "#9c179e"
             ],
             [
              0.4444444444444444,
              "#bd3786"
             ],
             [
              0.5555555555555556,
              "#d8576b"
             ],
             [
              0.6666666666666666,
              "#ed7953"
             ],
             [
              0.7777777777777778,
              "#fb9f3a"
             ],
             [
              0.8888888888888888,
              "#fdca26"
             ],
             [
              1,
              "#f0f921"
             ]
            ],
            "type": "histogram2d"
           }
          ],
          "histogram2dcontour": [
           {
            "colorbar": {
             "outlinewidth": 0,
             "ticks": ""
            },
            "colorscale": [
             [
              0,
              "#0d0887"
             ],
             [
              0.1111111111111111,
              "#46039f"
             ],
             [
              0.2222222222222222,
              "#7201a8"
             ],
             [
              0.3333333333333333,
              "#9c179e"
             ],
             [
              0.4444444444444444,
              "#bd3786"
             ],
             [
              0.5555555555555556,
              "#d8576b"
             ],
             [
              0.6666666666666666,
              "#ed7953"
             ],
             [
              0.7777777777777778,
              "#fb9f3a"
             ],
             [
              0.8888888888888888,
              "#fdca26"
             ],
             [
              1,
              "#f0f921"
             ]
            ],
            "type": "histogram2dcontour"
           }
          ],
          "mesh3d": [
           {
            "colorbar": {
             "outlinewidth": 0,
             "ticks": ""
            },
            "type": "mesh3d"
           }
          ],
          "parcoords": [
           {
            "line": {
             "colorbar": {
              "outlinewidth": 0,
              "ticks": ""
             }
            },
            "type": "parcoords"
           }
          ],
          "pie": [
           {
            "automargin": true,
            "type": "pie"
           }
          ],
          "scatter": [
           {
            "fillpattern": {
             "fillmode": "overlay",
             "size": 10,
             "solidity": 0.2
            },
            "type": "scatter"
           }
          ],
          "scatter3d": [
           {
            "line": {
             "colorbar": {
              "outlinewidth": 0,
              "ticks": ""
             }
            },
            "marker": {
             "colorbar": {
              "outlinewidth": 0,
              "ticks": ""
             }
            },
            "type": "scatter3d"
           }
          ],
          "scattercarpet": [
           {
            "marker": {
             "colorbar": {
              "outlinewidth": 0,
              "ticks": ""
             }
            },
            "type": "scattercarpet"
           }
          ],
          "scattergeo": [
           {
            "marker": {
             "colorbar": {
              "outlinewidth": 0,
              "ticks": ""
             }
            },
            "type": "scattergeo"
           }
          ],
          "scattergl": [
           {
            "marker": {
             "colorbar": {
              "outlinewidth": 0,
              "ticks": ""
             }
            },
            "type": "scattergl"
           }
          ],
          "scattermap": [
           {
            "marker": {
             "colorbar": {
              "outlinewidth": 0,
              "ticks": ""
             }
            },
            "type": "scattermap"
           }
          ],
          "scattermapbox": [
           {
            "marker": {
             "colorbar": {
              "outlinewidth": 0,
              "ticks": ""
             }
            },
            "type": "scattermapbox"
           }
          ],
          "scatterpolar": [
           {
            "marker": {
             "colorbar": {
              "outlinewidth": 0,
              "ticks": ""
             }
            },
            "type": "scatterpolar"
           }
          ],
          "scatterpolargl": [
           {
            "marker": {
             "colorbar": {
              "outlinewidth": 0,
              "ticks": ""
             }
            },
            "type": "scatterpolargl"
           }
          ],
          "scatterternary": [
           {
            "marker": {
             "colorbar": {
              "outlinewidth": 0,
              "ticks": ""
             }
            },
            "type": "scatterternary"
           }
          ],
          "surface": [
           {
            "colorbar": {
             "outlinewidth": 0,
             "ticks": ""
            },
            "colorscale": [
             [
              0,
              "#0d0887"
             ],
             [
              0.1111111111111111,
              "#46039f"
             ],
             [
              0.2222222222222222,
              "#7201a8"
             ],
             [
              0.3333333333333333,
              "#9c179e"
             ],
             [
              0.4444444444444444,
              "#bd3786"
             ],
             [
              0.5555555555555556,
              "#d8576b"
             ],
             [
              0.6666666666666666,
              "#ed7953"
             ],
             [
              0.7777777777777778,
              "#fb9f3a"
             ],
             [
              0.8888888888888888,
              "#fdca26"
             ],
             [
              1,
              "#f0f921"
             ]
            ],
            "type": "surface"
           }
          ],
          "table": [
           {
            "cells": {
             "fill": {
              "color": "#EBF0F8"
             },
             "line": {
              "color": "white"
             }
            },
            "header": {
             "fill": {
              "color": "#C8D4E3"
             },
             "line": {
              "color": "white"
             }
            },
            "type": "table"
           }
          ]
         },
         "layout": {
          "annotationdefaults": {
           "arrowcolor": "#2a3f5f",
           "arrowhead": 0,
           "arrowwidth": 1
          },
          "autotypenumbers": "strict",
          "coloraxis": {
           "colorbar": {
            "outlinewidth": 0,
            "ticks": ""
           }
          },
          "colorscale": {
           "diverging": [
            [
             0,
             "#8e0152"
            ],
            [
             0.1,
             "#c51b7d"
            ],
            [
             0.2,
             "#de77ae"
            ],
            [
             0.3,
             "#f1b6da"
            ],
            [
             0.4,
             "#fde0ef"
            ],
            [
             0.5,
             "#f7f7f7"
            ],
            [
             0.6,
             "#e6f5d0"
            ],
            [
             0.7,
             "#b8e186"
            ],
            [
             0.8,
             "#7fbc41"
            ],
            [
             0.9,
             "#4d9221"
            ],
            [
             1,
             "#276419"
            ]
           ],
           "sequential": [
            [
             0,
             "#0d0887"
            ],
            [
             0.1111111111111111,
             "#46039f"
            ],
            [
             0.2222222222222222,
             "#7201a8"
            ],
            [
             0.3333333333333333,
             "#9c179e"
            ],
            [
             0.4444444444444444,
             "#bd3786"
            ],
            [
             0.5555555555555556,
             "#d8576b"
            ],
            [
             0.6666666666666666,
             "#ed7953"
            ],
            [
             0.7777777777777778,
             "#fb9f3a"
            ],
            [
             0.8888888888888888,
             "#fdca26"
            ],
            [
             1,
             "#f0f921"
            ]
           ],
           "sequentialminus": [
            [
             0,
             "#0d0887"
            ],
            [
             0.1111111111111111,
             "#46039f"
            ],
            [
             0.2222222222222222,
             "#7201a8"
            ],
            [
             0.3333333333333333,
             "#9c179e"
            ],
            [
             0.4444444444444444,
             "#bd3786"
            ],
            [
             0.5555555555555556,
             "#d8576b"
            ],
            [
             0.6666666666666666,
             "#ed7953"
            ],
            [
             0.7777777777777778,
             "#fb9f3a"
            ],
            [
             0.8888888888888888,
             "#fdca26"
            ],
            [
             1,
             "#f0f921"
            ]
           ]
          },
          "colorway": [
           "#636efa",
           "#EF553B",
           "#00cc96",
           "#ab63fa",
           "#FFA15A",
           "#19d3f3",
           "#FF6692",
           "#B6E880",
           "#FF97FF",
           "#FECB52"
          ],
          "font": {
           "color": "#2a3f5f"
          },
          "geo": {
           "bgcolor": "white",
           "lakecolor": "white",
           "landcolor": "#E5ECF6",
           "showlakes": true,
           "showland": true,
           "subunitcolor": "white"
          },
          "hoverlabel": {
           "align": "left"
          },
          "hovermode": "closest",
          "mapbox": {
           "style": "light"
          },
          "paper_bgcolor": "white",
          "plot_bgcolor": "#E5ECF6",
          "polar": {
           "angularaxis": {
            "gridcolor": "white",
            "linecolor": "white",
            "ticks": ""
           },
           "bgcolor": "#E5ECF6",
           "radialaxis": {
            "gridcolor": "white",
            "linecolor": "white",
            "ticks": ""
           }
          },
          "scene": {
           "xaxis": {
            "backgroundcolor": "#E5ECF6",
            "gridcolor": "white",
            "gridwidth": 2,
            "linecolor": "white",
            "showbackground": true,
            "ticks": "",
            "zerolinecolor": "white"
           },
           "yaxis": {
            "backgroundcolor": "#E5ECF6",
            "gridcolor": "white",
            "gridwidth": 2,
            "linecolor": "white",
            "showbackground": true,
            "ticks": "",
            "zerolinecolor": "white"
           },
           "zaxis": {
            "backgroundcolor": "#E5ECF6",
            "gridcolor": "white",
            "gridwidth": 2,
            "linecolor": "white",
            "showbackground": true,
            "ticks": "",
            "zerolinecolor": "white"
           }
          },
          "shapedefaults": {
           "line": {
            "color": "#2a3f5f"
           }
          },
          "ternary": {
           "aaxis": {
            "gridcolor": "white",
            "linecolor": "white",
            "ticks": ""
           },
           "baxis": {
            "gridcolor": "white",
            "linecolor": "white",
            "ticks": ""
           },
           "bgcolor": "#E5ECF6",
           "caxis": {
            "gridcolor": "white",
            "linecolor": "white",
            "ticks": ""
           }
          },
          "title": {
           "x": 0.05
          },
          "xaxis": {
           "automargin": true,
           "gridcolor": "white",
           "linecolor": "white",
           "ticks": "",
           "title": {
            "standoff": 15
           },
           "zerolinecolor": "white",
           "zerolinewidth": 2
          },
          "yaxis": {
           "automargin": true,
           "gridcolor": "white",
           "linecolor": "white",
           "ticks": "",
           "title": {
            "standoff": 15
           },
           "zerolinecolor": "white",
           "zerolinewidth": 2
          }
         }
        },
        "title": {
         "text": "Total Production in NO1 (2021)"
        }
       }
      }
     },
     "metadata": {},
     "output_type": "display_data"
    }
   ],
   "source": [
    "# Choose the price area for the two plots\n",
    "chosen_area = \"NO1\"\n",
    "\n",
    "# Aggregate total production by production group\n",
    "agg_df = selected_df.filter(selected_df.pricearea == chosen_area) \\\n",
    "    .groupBy(\"productiongroup\") \\\n",
    "    .agg(spark_sum(\"quantitykwh\").alias(\"total_quantity\"))\n",
    "\n",
    "# Convert to Pandas\n",
    "pdf = agg_df.toPandas()\n",
    "\n",
    "# Create interactive pie chart\n",
    "fig = px.pie(\n",
    "    pdf,\n",
    "    names=\"productiongroup\",\n",
    "    values=\"total_quantity\",\n",
    "    title=f\"Total Production in {chosen_area} (2021)\",\n",
    "    hole=0.0\n",
    ")\n",
    "\n",
    "fig.show()\n"
   ]
  },
  {
   "cell_type": "code",
   "execution_count": 10,
   "id": "ad5a23c2",
   "metadata": {},
   "outputs": [
    {
     "data": {
      "image/png": "[encoded data removed]",
      "text/plain": [
       "<IPython.core.display.Image object>"
      ]
     },
     "metadata": {},
     "output_type": "display_data"
    }
   ],
   "source": [
    "# Print Pie_chart.png, to show in pdf\n",
    "display(Image(filename='Pie_chart.png'))"
   ]
  },
  {
   "cell_type": "code",
   "execution_count": 11,
   "id": "83066d84",
   "metadata": {},
   "outputs": [
    {
     "name": "stderr",
     "output_type": "stream",
     "text": [
      "                                                                                \r"
     ]
    },
    {
     "data": {
      "application/vnd.plotly.v1+json": {
       "config": {
        "plotlyServerURL": "https://plot.ly"
       },
       "data": [
        {
         "hovertemplate": "Production Group=wind<br>Date=%{x}<br>Total Quantity (kWh)=%{y}<extra></extra>",
         "legendgroup": "wind",
         "line": {
          "color": "#636efa",
          "dash": "solid"
         },
         "marker": {
          "symbol": "circle"
         },
         "mode": "lines+markers",
         "name": "wind",
         "orientation": "v",
         "showlegend": true,
         "type": "scatter",
         "x": [
          "2021-01-01",
          "2021-01-02",
          "2021-01-03",
          "2021-01-04",
          "2021-01-05",
          "2021-01-06",
          "2021-01-07",
          "2021-01-08",
          "2021-01-09",
          "2021-01-10",
          "2021-01-11",
          "2021-01-12",
          "2021-01-13",
          "2021-01-14",
          "2021-01-15",
          "2021-01-16",
          "2021-01-17",
          "2021-01-18",
          "2021-01-19",
          "2021-01-20",
          "2021-01-21",
          "2021-01-22",
          "2021-01-23",
          "2021-01-24",
          "2021-01-25",
          "2021-01-26",
          "2021-01-27",
          "2021-01-28",
          "2021-01-29",
          "2021-01-30",
          "2021-01-31"
         ],
         "xaxis": "x",
         "y": {
          "bdata": "Nl66SRDT5ECamZmZGZ75QE1iEBivtidBFK5HwSmhOEF7FK5HCTbxQLOd76eujtxAAAAAAAAAAABMN4lBsFLAQD81XnrdTjZB8dJNYjEAIkGAarz0V4MRQXRoka3B3zpBDAIr50Q1QUHeJAYB1rQcQSPb+b4B3zRBQDVeuk1qF0F+PzXeY00gQebQItutZBdB7nw/NbROBUHOzMxMxxIeQfT91Jgx4jdBwcqhpWEjOUGZmZmZ0R4xQZ7vp8ZR0QFBHoXr0d0qH0HrUbgeXlsEQaFFtvP6ISFBlkOLbAkV90D1KFyPRkEOQeF6FK6haTFBEVg5dHPIIkE=",
          "dtype": "f8"
         },
         "yaxis": "y"
        },
        {
         "hovertemplate": "Production Group=hydro<br>Date=%{x}<br>Total Quantity (kWh)=%{y}<extra></extra>",
         "legendgroup": "hydro",
         "line": {
          "color": "#EF553B",
          "dash": "solid"
         },
         "marker": {
          "symbol": "circle"
         },
         "mode": "lines+markers",
         "name": "hydro",
         "orientation": "v",
         "showlegend": true,
         "type": "scatter",
         "x": [
          "2021-01-01",
          "2021-01-02",
          "2021-01-03",
          "2021-01-04",
          "2021-01-05",
          "2021-01-06",
          "2021-01-07",
          "2021-01-08",
          "2021-01-09",
          "2021-01-10",
          "2021-01-11",
          "2021-01-12",
          "2021-01-13",
          "2021-01-14",
          "2021-01-15",
          "2021-01-16",
          "2021-01-17",
          "2021-01-18",
          "2021-01-19",
          "2021-01-20",
          "2021-01-21",
          "2021-01-22",
          "2021-01-23",
          "2021-01-24",
          "2021-01-25",
          "2021-01-26",
          "2021-01-27",
          "2021-01-28",
          "2021-01-29",
          "2021-01-30",
          "2021-01-31"
         ],
         "xaxis": "x",
         "y": {
          "bdata": "zszMkGKxjkH///9Le4OPQTMzM2unBY9BZmZmIuCRjkEzMzPvJUaNQczMzAx//4xBmJmZxUuijkEAAADgsUGPQZqZmZW3KY9BAQAAdOl6jkFlZmZuTWWOQWdmZhI7AI5BzczMDKV9jUEzMzPTUEyOQQAAAHBVSY9BAAAAhND/jkHNzMwsoYeOQZqZmc3twY1BAAAAvALujEGZmZm9PKmLQQAAAEj4jYpBZmZmPi4ni0GbmZmJ63qKQZqZmdH+RItBMzMzW/tPjEEAAACEPGiMQTMzM0ta94xBAQAA+LIVjUEAAAB0VK2MQZuZmWUEG4xBzszMLIYRi0E=",
          "dtype": "f8"
         },
         "yaxis": "y"
        },
        {
         "hovertemplate": "Production Group=other<br>Date=%{x}<br>Total Quantity (kWh)=%{y}<extra></extra>",
         "legendgroup": "other",
         "line": {
          "color": "#00cc96",
          "dash": "solid"
         },
         "marker": {
          "symbol": "circle"
         },
         "mode": "lines+markers",
         "name": "other",
         "orientation": "v",
         "showlegend": true,
         "type": "scatter",
         "x": [
          "2021-01-01",
          "2021-01-02",
          "2021-01-03",
          "2021-01-04",
          "2021-01-05",
          "2021-01-06",
          "2021-01-07",
          "2021-01-08",
          "2021-01-09",
          "2021-01-10",
          "2021-01-11",
          "2021-01-12",
          "2021-01-13",
          "2021-01-14",
          "2021-01-15",
          "2021-01-16",
          "2021-01-17",
          "2021-01-18",
          "2021-01-19",
          "2021-01-20",
          "2021-01-21",
          "2021-01-22",
          "2021-01-23",
          "2021-01-24",
          "2021-01-25",
          "2021-01-26",
          "2021-01-27",
          "2021-01-28",
          "2021-01-29",
          "2021-01-30",
          "2021-01-31"
         ],
         "xaxis": "x",
         "y": {
          "bdata": "AAAAAAAAAAAAAAAAAAAAAD4K16NwPfw/nMQgsHJooT8AAAAAAAAAAAAAAAAAAAAAAAAAAAAAAADRItv5fmq8PwAAAAAAAAAAAAAAAAAAAAAAAAAAAAAAAAAAAAAAAAAAAAAAAAAAAAAAAAAAAAAAAAAAAAAAAAAAAAAAAAAAAAAAAAAAAAAAAAAAAAAAAAAAAAAAAAAAAAAAAAAAAFSUQAAAAAAAAAAAnMQgsHJooT8cWmQ7308HQAAAAAAAAAAAAAAAAAAAAAC8dJMYBNYZQI6XbhKDQB9A3SQGgZXDFUAdWmQ7308dQP7UeOkmMRJANDMzMzMzH0A=",
          "dtype": "f8"
         },
         "yaxis": "y"
        },
        {
         "hovertemplate": "Production Group=thermal<br>Date=%{x}<br>Total Quantity (kWh)=%{y}<extra></extra>",
         "legendgroup": "thermal",
         "line": {
          "color": "#ab63fa",
          "dash": "solid"
         },
         "marker": {
          "symbol": "circle"
         },
         "mode": "lines+markers",
         "name": "thermal",
         "orientation": "v",
         "showlegend": true,
         "type": "scatter",
         "x": [
          "2021-01-01",
          "2021-01-02",
          "2021-01-03",
          "2021-01-04",
          "2021-01-05",
          "2021-01-06",
          "2021-01-07",
          "2021-01-08",
          "2021-01-09",
          "2021-01-10",
          "2021-01-11",
          "2021-01-12",
          "2021-01-13",
          "2021-01-14",
          "2021-01-15",
          "2021-01-16",
          "2021-01-17",
          "2021-01-18",
          "2021-01-19",
          "2021-01-20",
          "2021-01-21",
          "2021-01-22",
          "2021-01-23",
          "2021-01-24",
          "2021-01-25",
          "2021-01-26",
          "2021-01-27",
          "2021-01-28",
          "2021-01-29",
          "2021-01-30",
          "2021-01-31"
         ],
         "xaxis": "x",
         "y": {
          "bdata": "LIcW2T7iMkH0/dTYzs4yQQVWDo3rvTJB2/l+ikd3MkFrvHTzHM8xQb10k9geEDBBwMqhpeTmMEFSuB7F2KkwQWQ7369UDDFBrUfh+kb5MEHb+X6q2mwuQfhT46UXOy1B3SQGYaJyMUH0/dSYjk8xQTiJQSCmQTFB6iYx6Do4MUH2KFyP8U4xQfT91BjPEDFBiUFg5b6iLUF8FK5H9GstQTq0yLY7VC9B7FG4vhBoMUFWDi1y0SkyQSLb+b7+YDJB0PdToxzoMUFyPQpX07MwQajGSzcuuDBB3iQGAaD4MEHC9SgcncowQe18PzVe0i5B8tJNguD5MEE=",
          "dtype": "f8"
         },
         "yaxis": "y"
        },
        {
         "hovertemplate": "Production Group=solar<br>Date=%{x}<br>Total Quantity (kWh)=%{y}<extra></extra>",
         "legendgroup": "solar",
         "line": {
          "color": "#FFA15A",
          "dash": "solid"
         },
         "marker": {
          "symbol": "circle"
         },
         "mode": "lines+markers",
         "name": "solar",
         "orientation": "v",
         "showlegend": true,
         "type": "scatter",
         "x": [
          "2021-01-01",
          "2021-01-02",
          "2021-01-03",
          "2021-01-04",
          "2021-01-05",
          "2021-01-06",
          "2021-01-07",
          "2021-01-08",
          "2021-01-09",
          "2021-01-10",
          "2021-01-11",
          "2021-01-12",
          "2021-01-13",
          "2021-01-14",
          "2021-01-15",
          "2021-01-16",
          "2021-01-17",
          "2021-01-18",
          "2021-01-19",
          "2021-01-20",
          "2021-01-21",
          "2021-01-22",
          "2021-01-23",
          "2021-01-24",
          "2021-01-25",
          "2021-01-26",
          "2021-01-27",
          "2021-01-28",
          "2021-01-29",
          "2021-01-30",
          "2021-01-31"
         ],
         "xaxis": "x",
         "y": {
          "bdata": "zMzMzMykZUDXo3A9Cj9iQKAaL90kJnVA/9R46SYHeUBMN4lBYC92QE5iEFg5NG5AGARWDi2eY0CjcD0K1wtoQAvXo3A9JmxAvHSTGATUf0Da+X5qvFxsQAAAAAAABnFAASuHFtmWbUAmMQisHDBxQH5qvHSTbHBAm8QgsHIockAZBFYOLRJmQKfGSzeJeWpAlUOLbOfdckD0/dR46bh0QG8Sg8DKU3VAp8ZLN4mJekBANV66yUCjQBxaZDvfq3dAjsL1KFw9f0AxCKwcWq6WQDReukmMppNAAiuHFtmlmEDP91PjJWmVQEnhehQuL5tALbKd76fTm0A=",
          "dtype": "f8"
         },
         "yaxis": "y"
        }
       ],
       "layout": {
        "legend": {
         "title": {
          "text": "Production Group"
         },
         "tracegroupgap": 0
        },
        "template": {
         "data": {
          "bar": [
           {
            "error_x": {
             "color": "#2a3f5f"
            },
            "error_y": {
             "color": "#2a3f5f"
            },
            "marker": {
             "line": {
              "color": "#E5ECF6",
              "width": 0.5
             },
             "pattern": {
              "fillmode": "overlay",
              "size": 10,
              "solidity": 0.2
             }
            },
            "type": "bar"
           }
          ],
          "barpolar": [
           {
            "marker": {
             "line": {
              "color": "#E5ECF6",
              "width": 0.5
             },
             "pattern": {
              "fillmode": "overlay",
              "size": 10,
              "solidity": 0.2
             }
            },
            "type": "barpolar"
           }
          ],
          "carpet": [
           {
            "aaxis": {
             "endlinecolor": "#2a3f5f",
             "gridcolor": "white",
             "linecolor": "white",
             "minorgridcolor": "white",
             "startlinecolor": "#2a3f5f"
            },
            "baxis": {
             "endlinecolor": "#2a3f5f",
             "gridcolor": "white",
             "linecolor": "white",
             "minorgridcolor": "white",
             "startlinecolor": "#2a3f5f"
            },
            "type": "carpet"
           }
          ],
          "choropleth": [
           {
            "colorbar": {
             "outlinewidth": 0,
             "ticks": ""
            },
            "type": "choropleth"
           }
          ],
          "contour": [
           {
            "colorbar": {
             "outlinewidth": 0,
             "ticks": ""
            },
            "colorscale": [
             [
              0,
              "#0d0887"
             ],
             [
              0.1111111111111111,
              "#46039f"
             ],
             [
              0.2222222222222222,
              "#7201a8"
             ],
             [
              0.3333333333333333,
              "#9c179e"
             ],
             [
              0.4444444444444444,
              "#bd3786"
             ],
             [
              0.5555555555555556,
              "#d8576b"
             ],
             [
              0.6666666666666666,
              "#ed7953"
             ],
             [
              0.7777777777777778,
              "#fb9f3a"
             ],
             [
              0.8888888888888888,
              "#fdca26"
             ],
             [
              1,
              "#f0f921"
             ]
            ],
            "type": "contour"
           }
          ],
          "contourcarpet": [
           {
            "colorbar": {
             "outlinewidth": 0,
             "ticks": ""
            },
            "type": "contourcarpet"
           }
          ],
          "heatmap": [
           {
            "colorbar": {
             "outlinewidth": 0,
             "ticks": ""
            },
            "colorscale": [
             [
              0,
              "#0d0887"
             ],
             [
              0.1111111111111111,
              "#46039f"
             ],
             [
              0.2222222222222222,
              "#7201a8"
             ],
             [
              0.3333333333333333,
              "#9c179e"
             ],
             [
              0.4444444444444444,
              "#bd3786"
             ],
             [
              0.5555555555555556,
              "#d8576b"
             ],
             [
              0.6666666666666666,
              "#ed7953"
             ],
             [
              0.7777777777777778,
              "#fb9f3a"
             ],
             [
              0.8888888888888888,
              "#fdca26"
             ],
             [
              1,
              "#f0f921"
             ]
            ],
            "type": "heatmap"
           }
          ],
          "histogram": [
           {
            "marker": {
             "pattern": {
              "fillmode": "overlay",
              "size": 10,
              "solidity": 0.2
             }
            },
            "type": "histogram"
           }
          ],
          "histogram2d": [
           {
            "colorbar": {
             "outlinewidth": 0,
             "ticks": ""
            },
            "colorscale": [
             [
              0,
              "#0d0887"
             ],
             [
              0.1111111111111111,
              "#46039f"
             ],
             [
              0.2222222222222222,
              "#7201a8"
             ],
             [
              0.3333333333333333,
              "#9c179e"
             ],
             [
              0.4444444444444444,
              "#bd3786"
             ],
             [
              0.5555555555555556,
              "#d8576b"
             ],
             [
              0.6666666666666666,
              "#ed7953"
             ],
             [
              0.7777777777777778,
              "#fb9f3a"
             ],
             [
              0.8888888888888888,
              "#fdca26"
             ],
             [
              1,
              "#f0f921"
             ]
            ],
            "type": "histogram2d"
           }
          ],
          "histogram2dcontour": [
           {
            "colorbar": {
             "outlinewidth": 0,
             "ticks": ""
            },
            "colorscale": [
             [
              0,
              "#0d0887"
             ],
             [
              0.1111111111111111,
              "#46039f"
             ],
             [
              0.2222222222222222,
              "#7201a8"
             ],
             [
              0.3333333333333333,
              "#9c179e"
             ],
             [
              0.4444444444444444,
              "#bd3786"
             ],
             [
              0.5555555555555556,
              "#d8576b"
             ],
             [
              0.6666666666666666,
              "#ed7953"
             ],
             [
              0.7777777777777778,
              "#fb9f3a"
             ],
             [
              0.8888888888888888,
              "#fdca26"
             ],
             [
              1,
              "#f0f921"
             ]
            ],
            "type": "histogram2dcontour"
           }
          ],
          "mesh3d": [
           {
            "colorbar": {
             "outlinewidth": 0,
             "ticks": ""
            },
            "type": "mesh3d"
           }
          ],
          "parcoords": [
           {
            "line": {
             "colorbar": {
              "outlinewidth": 0,
              "ticks": ""
             }
            },
            "type": "parcoords"
           }
          ],
          "pie": [
           {
            "automargin": true,
            "type": "pie"
           }
          ],
          "scatter": [
           {
            "fillpattern": {
             "fillmode": "overlay",
             "size": 10,
             "solidity": 0.2
            },
            "type": "scatter"
           }
          ],
          "scatter3d": [
           {
            "line": {
             "colorbar": {
              "outlinewidth": 0,
              "ticks": ""
             }
            },
            "marker": {
             "colorbar": {
              "outlinewidth": 0,
              "ticks": ""
             }
            },
            "type": "scatter3d"
           }
          ],
          "scattercarpet": [
           {
            "marker": {
             "colorbar": {
              "outlinewidth": 0,
              "ticks": ""
             }
            },
            "type": "scattercarpet"
           }
          ],
          "scattergeo": [
           {
            "marker": {
             "colorbar": {
              "outlinewidth": 0,
              "ticks": ""
             }
            },
            "type": "scattergeo"
           }
          ],
          "scattergl": [
           {
            "marker": {
             "colorbar": {
              "outlinewidth": 0,
              "ticks": ""
             }
            },
            "type": "scattergl"
           }
          ],
          "scattermap": [
           {
            "marker": {
             "colorbar": {
              "outlinewidth": 0,
              "ticks": ""
             }
            },
            "type": "scattermap"
           }
          ],
          "scattermapbox": [
           {
            "marker": {
             "colorbar": {
              "outlinewidth": 0,
              "ticks": ""
             }
            },
            "type": "scattermapbox"
           }
          ],
          "scatterpolar": [
           {
            "marker": {
             "colorbar": {
              "outlinewidth": 0,
              "ticks": ""
             }
            },
            "type": "scatterpolar"
           }
          ],
          "scatterpolargl": [
           {
            "marker": {
             "colorbar": {
              "outlinewidth": 0,
              "ticks": ""
             }
            },
            "type": "scatterpolargl"
           }
          ],
          "scatterternary": [
           {
            "marker": {
             "colorbar": {
              "outlinewidth": 0,
              "ticks": ""
             }
            },
            "type": "scatterternary"
           }
          ],
          "surface": [
           {
            "colorbar": {
             "outlinewidth": 0,
             "ticks": ""
            },
            "colorscale": [
             [
              0,
              "#0d0887"
             ],
             [
              0.1111111111111111,
              "#46039f"
             ],
             [
              0.2222222222222222,
              "#7201a8"
             ],
             [
              0.3333333333333333,
              "#9c179e"
             ],
             [
              0.4444444444444444,
              "#bd3786"
             ],
             [
              0.5555555555555556,
              "#d8576b"
             ],
             [
              0.6666666666666666,
              "#ed7953"
             ],
             [
              0.7777777777777778,
              "#fb9f3a"
             ],
             [
              0.8888888888888888,
              "#fdca26"
             ],
             [
              1,
              "#f0f921"
             ]
            ],
            "type": "surface"
           }
          ],
          "table": [
           {
            "cells": {
             "fill": {
              "color": "#EBF0F8"
             },
             "line": {
              "color": "white"
             }
            },
            "header": {
             "fill": {
              "color": "#C8D4E3"
             },
             "line": {
              "color": "white"
             }
            },
            "type": "table"
           }
          ]
         },
         "layout": {
          "annotationdefaults": {
           "arrowcolor": "#2a3f5f",
           "arrowhead": 0,
           "arrowwidth": 1
          },
          "autotypenumbers": "strict",
          "coloraxis": {
           "colorbar": {
            "outlinewidth": 0,
            "ticks": ""
           }
          },
          "colorscale": {
           "diverging": [
            [
             0,
             "#8e0152"
            ],
            [
             0.1,
             "#c51b7d"
            ],
            [
             0.2,
             "#de77ae"
            ],
            [
             0.3,
             "#f1b6da"
            ],
            [
             0.4,
             "#fde0ef"
            ],
            [
             0.5,
             "#f7f7f7"
            ],
            [
             0.6,
             "#e6f5d0"
            ],
            [
             0.7,
             "#b8e186"
            ],
            [
             0.8,
             "#7fbc41"
            ],
            [
             0.9,
             "#4d9221"
            ],
            [
             1,
             "#276419"
            ]
           ],
           "sequential": [
            [
             0,
             "#0d0887"
            ],
            [
             0.1111111111111111,
             "#46039f"
            ],
            [
             0.2222222222222222,
             "#7201a8"
            ],
            [
             0.3333333333333333,
             "#9c179e"
            ],
            [
             0.4444444444444444,
             "#bd3786"
            ],
            [
             0.5555555555555556,
             "#d8576b"
            ],
            [
             0.6666666666666666,
             "#ed7953"
            ],
            [
             0.7777777777777778,
             "#fb9f3a"
            ],
            [
             0.8888888888888888,
             "#fdca26"
            ],
            [
             1,
             "#f0f921"
            ]
           ],
           "sequentialminus": [
            [
             0,
             "#0d0887"
            ],
            [
             0.1111111111111111,
             "#46039f"
            ],
            [
             0.2222222222222222,
             "#7201a8"
            ],
            [
             0.3333333333333333,
             "#9c179e"
            ],
            [
             0.4444444444444444,
             "#bd3786"
            ],
            [
             0.5555555555555556,
             "#d8576b"
            ],
            [
             0.6666666666666666,
             "#ed7953"
            ],
            [
             0.7777777777777778,
             "#fb9f3a"
            ],
            [
             0.8888888888888888,
             "#fdca26"
            ],
            [
             1,
             "#f0f921"
            ]
           ]
          },
          "colorway": [
           "#636efa",
           "#EF553B",
           "#00cc96",
           "#ab63fa",
           "#FFA15A",
           "#19d3f3",
           "#FF6692",
           "#B6E880",
           "#FF97FF",
           "#FECB52"
          ],
          "font": {
           "color": "#2a3f5f"
          },
          "geo": {
           "bgcolor": "white",
           "lakecolor": "white",
           "landcolor": "#E5ECF6",
           "showlakes": true,
           "showland": true,
           "subunitcolor": "white"
          },
          "hoverlabel": {
           "align": "left"
          },
          "hovermode": "closest",
          "mapbox": {
           "style": "light"
          },
          "paper_bgcolor": "white",
          "plot_bgcolor": "#E5ECF6",
          "polar": {
           "angularaxis": {
            "gridcolor": "white",
            "linecolor": "white",
            "ticks": ""
           },
           "bgcolor": "#E5ECF6",
           "radialaxis": {
            "gridcolor": "white",
            "linecolor": "white",
            "ticks": ""
           }
          },
          "scene": {
           "xaxis": {
            "backgroundcolor": "#E5ECF6",
            "gridcolor": "white",
            "gridwidth": 2,
            "linecolor": "white",
            "showbackground": true,
            "ticks": "",
            "zerolinecolor": "white"
           },
           "yaxis": {
            "backgroundcolor": "#E5ECF6",
            "gridcolor": "white",
            "gridwidth": 2,
            "linecolor": "white",
            "showbackground": true,
            "ticks": "",
            "zerolinecolor": "white"
           },
           "zaxis": {
            "backgroundcolor": "#E5ECF6",
            "gridcolor": "white",
            "gridwidth": 2,
            "linecolor": "white",
            "showbackground": true,
            "ticks": "",
            "zerolinecolor": "white"
           }
          },
          "shapedefaults": {
           "line": {
            "color": "#2a3f5f"
           }
          },
          "ternary": {
           "aaxis": {
            "gridcolor": "white",
            "linecolor": "white",
            "ticks": ""
           },
           "baxis": {
            "gridcolor": "white",
            "linecolor": "white",
            "ticks": ""
           },
           "bgcolor": "#E5ECF6",
           "caxis": {
            "gridcolor": "white",
            "linecolor": "white",
            "ticks": ""
           }
          },
          "title": {
           "x": 0.05
          },
          "xaxis": {
           "automargin": true,
           "gridcolor": "white",
           "linecolor": "white",
           "ticks": "",
           "title": {
            "standoff": 15
           },
           "zerolinecolor": "white",
           "zerolinewidth": 2
          },
          "yaxis": {
           "automargin": true,
           "gridcolor": "white",
           "linecolor": "white",
           "ticks": "",
           "title": {
            "standoff": 15
           },
           "zerolinecolor": "white",
           "zerolinewidth": 2
          }
         }
        },
        "title": {
         "text": "Daily Production in NO1 - January 2021"
        },
        "xaxis": {
         "anchor": "y",
         "domain": [
          0,
          1
         ],
         "hoverformat": "%b %d",
         "tickformat": "%b %d",
         "title": {
          "text": "Date"
         }
        },
        "yaxis": {
         "anchor": "x",
         "domain": [
          0,
          1
         ],
         "title": {
          "text": "Total Quantity (kWh)"
         }
        }
       }
      }
     },
     "metadata": {},
     "output_type": "display_data"
    }
   ],
   "source": [
    "# Filter for January data\n",
    "jan_df = selected_df.filter(\n",
    "    (col(\"pricearea\") == chosen_area) &\n",
    "    (col(\"starttime\").between(\"2021-01-01 00:00:00\", \"2021-01-31 23:59:59\"))\n",
    ")\n",
    "\n",
    "# Aggregate daily production by production group\n",
    "daily_prod = jan_df.withColumn(\"date\", to_date(\"starttime\")) \\\n",
    "    .groupBy(\"date\", \"productiongroup\") \\\n",
    "    .agg(spark_sum(\"quantitykwh\").alias(\"total_quantity\")) \\\n",
    "    .orderBy(\"date\")\n",
    "\n",
    "pdf_daily = daily_prod.toPandas()\n",
    "\n",
    "# Create line plot\n",
    "fig_line = px.line(\n",
    "    pdf_daily,\n",
    "    x=\"date\",\n",
    "    y=\"total_quantity\",\n",
    "    color=\"productiongroup\",\n",
    "    title=f\"Daily Production in {chosen_area} - January 2021\",\n",
    "    markers=True,\n",
    "    labels={\"total_quantity\": \"Total Quantity (kWh)\", \"date\": \"Date\", \"productiongroup\": \"Production Group\"}\n",
    ")\n",
    "# Forcing the x-axis to show dates properly\n",
    "fig_line.update_xaxes(tickformat=\"%b %d\", hoverformat=\"%b %d\")\n",
    "\n",
    "fig_line.show()\n"
   ]
  },
  {
   "cell_type": "code",
   "execution_count": 12,
   "id": "4f066c06",
   "metadata": {},
   "outputs": [
    {
     "data": {
      "image/png": "[encoded data removed]",
      "text/plain": [
       "<IPython.core.display.Image object>"
      ]
     },
     "metadata": {},
     "output_type": "display_data"
    }
   ],
   "source": [
    "# Print Line_plot.png, to show in pdf\n",
    "display(Image(filename='Line_plot.png'))\n"
   ]
  },
  {
   "cell_type": "markdown",
   "id": "66e000cb",
   "metadata": {},
   "source": [
    "### Insert data into MongoDB"
   ]
  },
  {
   "cell_type": "code",
   "execution_count": 13,
   "id": "e79a21c0",
   "metadata": {},
   "outputs": [
    {
     "name": "stderr",
     "output_type": "stream",
     "text": [
      "                                                                                \r"
     ]
    },
    {
     "name": "stdout",
     "output_type": "stream",
     "text": [
      "Inserted 215353 documents into MongoDB\n"
     ]
    }
   ],
   "source": [
    "db = client[\"elhub_db\"]\n",
    "collection = db[\"production\"]\n",
    "\n",
    "# Convert Spark DataFrame to Pandas DataFrame\n",
    "mongo_df = selected_df.toPandas()\n",
    "\n",
    "# Insert into MongoDB\n",
    "records = mongo_df.to_dict(orient='records')\n",
    "result = collection.insert_many(records)\n",
    "print(f\"Inserted {len(result.inserted_ids)} documents into MongoDB\")\n"
   ]
  }
 ],
 "metadata": {
  "kernelspec": {
   "display_name": "D2D_env",
   "language": "python",
   "name": "python3"
  },
  "language_info": {
   "codemirror_mode": {
    "name": "ipython",
    "version": 3
   },
   "file_extension": ".py",
   "mimetype": "text/x-python",
   "name": "python",
   "nbconvert_exporter": "python",
   "pygments_lexer": "ipython3",
   "version": "3.12.11"
  }
 },
 "nbformat": 4,
 "nbformat_minor": 5
}
